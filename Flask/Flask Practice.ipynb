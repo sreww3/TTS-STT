{
 "cells": [
  {
   "cell_type": "code",
   "execution_count": 1,
   "metadata": {
    "collapsed": true
   },
   "outputs": [
    {
     "name": "stdout",
     "output_type": "stream",
     "text": [
      "Requirement already satisfied: flask in /Users/yeongjaekim/opt/anaconda3/lib/python3.8/site-packages (1.1.2)\r\n",
      "Requirement already satisfied: itsdangerous>=0.24 in /Users/yeongjaekim/opt/anaconda3/lib/python3.8/site-packages (from flask) (1.1.0)\r\n",
      "Requirement already satisfied: Jinja2>=2.10.1 in /Users/yeongjaekim/opt/anaconda3/lib/python3.8/site-packages (from flask) (2.11.3)\r\n",
      "Requirement already satisfied: click>=5.1 in /Users/yeongjaekim/opt/anaconda3/lib/python3.8/site-packages (from flask) (7.1.2)\r\n",
      "Requirement already satisfied: Werkzeug>=0.15 in /Users/yeongjaekim/opt/anaconda3/lib/python3.8/site-packages (from flask) (1.0.1)\r\n",
      "Requirement already satisfied: MarkupSafe>=0.23 in /Users/yeongjaekim/opt/anaconda3/lib/python3.8/site-packages (from Jinja2>=2.10.1->flask) (1.1.1)\r\n"
     ]
    }
   ],
   "source": [
    "# Flask 다운로드\n",
    "!pip install flask"
   ]
  },
  {
   "cell_type": "code",
   "execution_count": 5,
   "outputs": [
    {
     "name": "stdout",
     "output_type": "stream",
     "text": [
      "Requirement already satisfied: flask_cors in /Users/yeongjaekim/opt/anaconda3/lib/python3.8/site-packages (3.0.10)\r\n",
      "Requirement already satisfied: Flask>=0.9 in /Users/yeongjaekim/opt/anaconda3/lib/python3.8/site-packages (from flask_cors) (1.1.2)\r\n",
      "Requirement already satisfied: Six in /Users/yeongjaekim/opt/anaconda3/lib/python3.8/site-packages (from flask_cors) (1.15.0)\r\n",
      "Requirement already satisfied: Werkzeug>=0.15 in /Users/yeongjaekim/opt/anaconda3/lib/python3.8/site-packages (from Flask>=0.9->flask_cors) (1.0.1)\r\n",
      "Requirement already satisfied: Jinja2>=2.10.1 in /Users/yeongjaekim/opt/anaconda3/lib/python3.8/site-packages (from Flask>=0.9->flask_cors) (2.11.3)\r\n",
      "Requirement already satisfied: itsdangerous>=0.24 in /Users/yeongjaekim/opt/anaconda3/lib/python3.8/site-packages (from Flask>=0.9->flask_cors) (1.1.0)\r\n",
      "Requirement already satisfied: click>=5.1 in /Users/yeongjaekim/opt/anaconda3/lib/python3.8/site-packages (from Flask>=0.9->flask_cors) (7.1.2)\r\n",
      "Requirement already satisfied: MarkupSafe>=0.23 in /Users/yeongjaekim/opt/anaconda3/lib/python3.8/site-packages (from Jinja2>=2.10.1->Flask>=0.9->flask_cors) (1.1.1)\r\n"
     ]
    }
   ],
   "source": [
    "!pip install flask_cors"
   ],
   "metadata": {
    "collapsed": false,
    "pycharm": {
     "name": "#%%\n"
    }
   }
  },
  {
   "cell_type": "code",
   "execution_count": 6,
   "outputs": [],
   "source": [
    "from flask import Flask # Flask import\n",
    "from flask import request, redirect"
   ],
   "metadata": {
    "collapsed": false,
    "pycharm": {
     "name": "#%%\n"
    }
   }
  },
  {
   "cell_type": "code",
   "execution_count": 8,
   "outputs": [],
   "source": [
    "# 서버를 구동할 Flask 객체\n",
    "app = Flask(__name__)\n",
    "@app.route(\"/test\",methods=['Get','POST'])\n",
    "def function_name():\n",
    "    if request.method == 'POST':\n",
    "        num1 = int(request.form['num'])\n",
    "        # Post 방식은 Form\n",
    "        result = num1 * 5\n",
    "        return str(result)\n",
    "\n",
    "    else:\n",
    "        num1 = int(request.args['num'])\n",
    "        result = num1*5\n",
    "        return '<h1>' + str(result) + '</h1>'"
   ],
   "metadata": {
    "collapsed": false,
    "pycharm": {
     "name": "#%%\n"
    }
   }
  },
  {
   "cell_type": "code",
   "execution_count": null,
   "outputs": [],
   "source": [],
   "metadata": {
    "collapsed": false,
    "pycharm": {
     "name": "#%%\n"
    }
   }
  }
 ],
 "metadata": {
  "kernelspec": {
   "display_name": "Python 3",
   "language": "python",
   "name": "python3"
  },
  "language_info": {
   "codemirror_mode": {
    "name": "ipython",
    "version": 2
   },
   "file_extension": ".py",
   "mimetype": "text/x-python",
   "name": "python",
   "nbconvert_exporter": "python",
   "pygments_lexer": "ipython2",
   "version": "2.7.6"
  }
 },
 "nbformat": 4,
 "nbformat_minor": 0
}